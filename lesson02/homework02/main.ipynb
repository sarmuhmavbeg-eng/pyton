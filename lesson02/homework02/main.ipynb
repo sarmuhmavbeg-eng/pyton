fruits = ["Olma", "Nok", "Tarvuz", "Shaftoli", "Orik"]
print(fruits[2])

fruits = ["Behi", "qovun", "uzum", "Anjir", "banan"]
print("1. Третий фрукт:", fruits[2])
print()
list1 = [1, 2, 3]
list2 = [4, 5, 6]
combined_list = list1 + list2
print("2. рўйхатни қўшгин:", combined_list)
print()

list1 = [4, 5, 6]
list2 = [1, 2, 3]
merged = list2 + list1
print(merged)
numbers = [10, 20, 30, 40, 50, 60, 70]
first = numbers[0]
middle = numbers[len(numbers)//2]
last = numbers[-1]
new_list = [first, middle, last]
print(new_list)
numbers = [10, 20, 30, 40, 50, 60, 70]
first = numbers[0]
middle = numbers[len(numbers)//2]
last = numbers[-1]
selected_elements = [first, middle, last]
print("3. Tanlab olingan element:", selected_elements)
print()

movies = ["Abdullajon", "Bomba", "Toylar muborak", "Temir Xotin", "Sotqin"]
movies_tuple = tuple(movies)
print(movies_tuple)

movies_list = ["Teminator", "Rembo", "Матрица", "Chelyusti", "Matrica"]
movies_tuple = tuple(movies_list)
print("4. kinolar ro'yhati:", movies_tuple)
print()
cities = ["Moscow", "Tashkent", "Paris", "Berlin"]
print("Paris" in cities)

# 5. Проверка элемента в списке
cities = ["Moscow", "Tashkent", "Paris", "Berlin"]
has_paris = "Paris" in cities
print("5. Paris в списке городов:", has_paris)
print()
nums = [1, 2, 3]
doubled = nums * 2
print(doubled)

original_list = [1, 2, 3, 4, 5]
duplicated_list = original_list * 2
print("6. qaytarilgan royhat:", duplicated_list)
print()

nums = [10, 20, 30, 40, 50]
nums[0], nums[-1] = nums[-1], nums[0]
print(nums)

numbers_list = [1, 2, 3, 4, 5]
print("7. Исходный список:", numbers_list)
numbers_list[0], numbers_list[-1] = numbers_list[-1], numbers_list[0]
print("   После замены:", numbers_list)
print()


numbers = tuple(range(1, 11))
print(numbers[3:8])  # индексы 3–7
numbers_tuple = (1, 2, 3, 4, 5, 6, 7, 8, 9, 10)
slice_tuple = numbers_tuple[3:8]
print("8. Срез кортежа:", slice_tuple)
print()

colors = ["Ko'k", "Qizil", "Ko'k", "Yashil", "Ko'k"]
print(colors.count("Ko'k"))


colors = ["Qizil", "Ko'k", "Yashil", "Ko'k", "Sariq", "Ko'k"]
blue_count = colors.count("Ko'k")
print("9. Sonlaqri 'Ko'k' ro'yhatda:", blue_count)
print()

animals = ("Yolbars", "Sher", "Bo'ri", "Ayiq")
print(animals.index("Sher"))

animals = ("Fil", "Yolbars", "Sher", "Ayiq", "Jiraf")
lion_index = animals.index("Yolbars")
print("10. Индекс Sher:", lion_index)
print()

a = (1, 2, 3)
b = (4, 5, 6)
c = a + b
print(c)

tuple1 = (1, 2, 3)
tuple2 = (4, 5, 6)
combined_tuple = tuple1 + tuple2
print("11. sozlarni birlashtirish:", combined_tuple)
print()

lst = [1, 2, 3, 4]
tpl = (10, 20, 30)
print(len(lst), len(tpl))

sample_list = [1, 2, 3, 4, 5]
sample_tuple = (6, 7, 8, 9, 10)
print("12. Ro'yhat uzun:", len(sample_list))
print("kortej uzunligini:", len(sample_tuple))
print()

tpl = (5, 10, 15, 20, 25)
lst = list(tpl)
print(lst)

numbers_tuple2 = (11, 22, 33, 44, 55)
numbers_list2 = list(numbers_tuple2)
print("13. Ozgartirilgan ro;yhat:", numbers_list2)
print()

tpl = (7, 3, 9, 1, 6)
print("Maxisimum:", max(tpl))
print("Mininmum:", min(tpl))

numbers_tuple3 = (15, 8, 42, 3, 27, 19)
max_value = max(numbers_tuple3)
min_value = min(numbers_tuple3)
print("14. Maxisimum mano:", max_value)
print("    Mininmum mano:", min_value)
print()

words = ("bir", "ikki", "uch", "tort")
print(words[::-1])

words_tuple = ("Salom", "dunyo", "dasturlash", "python")
reversed_tuple = words_tuple[::-1]
print("15. Перевернутый кортеж:", reversed_tuple)
